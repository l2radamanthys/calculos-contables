{
 "cells": [
  {
   "cell_type": "markdown",
   "id": "b81383b4",
   "metadata": {},
   "source": [
    "# Cuotas vs Contado vs Mixto\n",
    "\n",
    "## Motivacion\n",
    "Actualmente los bancos ofrecen cierta financiación para compras con tarjetas en un cierto número de cuotas, la duda que se intenta resolver\n",
    "con este ejercicio es saber si teniendo el total del efectivo para pagar\n",
    "un producto determinado ¿conviene pagar de contado en un solo pago o pagar en cuotas y hacer como si pagaramos de contado pero la diferencia colocarla en un plazo fijo y comparar el rendimiento?\n",
    "\n",
    "Esta duda surgio en base a la siguiente noticia probar su veracidad y permitir aplicarla:\n",
    "\n",
    "[El truco para pagar la mitad por cualquier celular: se hace aprovechando la crisis económica](https://www.cronista.com/infotechnology/gadgets/el-rulo-que-usa-las-tasa-de-los-bancos-y-las-cuotas-para-pagar-la-mitad-por-cualquier-celular/)\n",
    "\n",
    "La idea en si es generalizar no solo para caso cuotas sin interes sino cualquier escenario posible que nos permita tomar una desicion."
   ]
  },
  {
   "cell_type": "code",
   "execution_count": 30,
   "id": "fce5a125",
   "metadata": {},
   "outputs": [],
   "source": [
    "import pandas as pd\n",
    "from decimal import Decimal\n",
    "import datetime\n",
    "from dateutil.relativedelta import relativedelta"
   ]
  },
  {
   "cell_type": "markdown",
   "id": "7db255e7",
   "metadata": {},
   "source": [
    "## Funciones de calculo de tazas y rendimientos contable"
   ]
  },
  {
   "cell_type": "code",
   "execution_count": 21,
   "id": "2abca8d0",
   "metadata": {},
   "outputs": [],
   "source": [
    "def calcular_rendimiento(C, r, t=1, n=12):\n",
    "    \"\"\"\n",
    "    C: capital inicial,\n",
    "    r: tasa de interes expresada en decimales\n",
    "    t: cantidad de años que se invierte\n",
    "    n: numero de periodos\n",
    "    \"\"\"\n",
    "    \n",
    "    return C * (1 + (r/n)) ** (n*t)\n",
    "\n",
    "def calcular_rendimiento_simplificado(C, r, d=1):\n",
    "    \"\"\"\n",
    "    calculo usando una aproximacion de la tasa del simulador de BNA\n",
    "    https://www.bna.com.ar/SimuladorPlazoFijo/SubInterna/PlazoFijo?subInterna=SimuladorPlazoFijo&id=PFElectronico\n",
    "    \n",
    "    C: capital inicial,\n",
    "    r: tasa de interes expresada en decimales\n",
    "    d: dias\n",
    "    \"\"\"\n",
    "    t_ = d / 365\n",
    "    return calcular_rendimiento(C, r, t_, 12)"
   ]
  },
  {
   "cell_type": "code",
   "execution_count": 22,
   "id": "ebfb9b93",
   "metadata": {},
   "outputs": [
    {
     "data": {
      "text/plain": [
       "17500.0"
      ]
     },
     "execution_count": 22,
     "metadata": {},
     "output_type": "execute_result"
    }
   ],
   "source": [
    "#test invertir 10.000 a un año un solo periodo\n",
    "calcular_rendimiento(10000, 0.75, t=1, n=1)"
   ]
  },
  {
   "cell_type": "code",
   "execution_count": 23,
   "id": "cca2760a",
   "metadata": {},
   "outputs": [
    {
     "data": {
      "text/plain": [
       "20698.899917795225"
      ]
     },
     "execution_count": 23,
     "metadata": {},
     "output_type": "execute_result"
    }
   ],
   "source": [
    "#test invertir 10.000 a 12 periodos\n",
    "calcular_rendimiento(10000, 0.75, t=1, n=12)"
   ]
  },
  {
   "cell_type": "code",
   "execution_count": 24,
   "id": "f061c136",
   "metadata": {},
   "outputs": [
    {
     "data": {
      "text/plain": [
       "10616.17987381662"
      ]
     },
     "execution_count": 24,
     "metadata": {},
     "output_type": "execute_result"
    }
   ],
   "source": [
    "#test invertir 10.000 a 30 dias usando formula BNA\n",
    "calcular_rendimiento_simplificado(10000, 0.75, d=30)"
   ]
  },
  {
   "cell_type": "markdown",
   "id": "f7f3ee49",
   "metadata": {},
   "source": [
    "## Inicializar valores en los siguientes"
   ]
  },
  {
   "cell_type": "code",
   "execution_count": 80,
   "id": "8e3ad17f",
   "metadata": {},
   "outputs": [],
   "source": [
    "#valor si lo pagaras de contado\n",
    "valor_contado = 138713.45\n",
    "\n",
    "#valor de la cuota fija mensula\n",
    "cuota = 16047.24  #modificar\n",
    "\n",
    "# cantidad de cuotas\n",
    "periodos = 12 #meses\n",
    "\n",
    "valor_total_tarjeta = cuota * periodos\n",
    "\n",
    "#Taza anual actual del PF\n",
    "taza_anual_pf = 0.75\n",
    "\n",
    "#fecha que realizas la compra y los PF\n",
    "fecha_compra = \"20/10/2022\"\n",
    "\n",
    "# dia del mes que hay que pagar la tarjeta\n",
    "dia_vence_cuota = 5 #ejemplo 5 de cada mes"
   ]
  },
  {
   "cell_type": "markdown",
   "id": "d53d9644",
   "metadata": {},
   "source": [
    "## El calculo en si"
   ]
  },
  {
   "cell_type": "code",
   "execution_count": 92,
   "id": "b8c10e17",
   "metadata": {},
   "outputs": [
    {
     "data": {
      "text/html": [
       "<div>\n",
       "<style scoped>\n",
       "    .dataframe tbody tr th:only-of-type {\n",
       "        vertical-align: middle;\n",
       "    }\n",
       "\n",
       "    .dataframe tbody tr th {\n",
       "        vertical-align: top;\n",
       "    }\n",
       "\n",
       "    .dataframe thead th {\n",
       "        text-align: right;\n",
       "    }\n",
       "</style>\n",
       "<table border=\"1\" class=\"dataframe\">\n",
       "  <thead>\n",
       "    <tr style=\"text-align: right;\">\n",
       "      <th></th>\n",
       "      <th>id</th>\n",
       "      <th>Fecha</th>\n",
       "      <th>Cuota</th>\n",
       "      <th>Días PF</th>\n",
       "      <th>Rendimiento</th>\n",
       "    </tr>\n",
       "  </thead>\n",
       "  <tbody>\n",
       "    <tr>\n",
       "      <th>0</th>\n",
       "      <td>1</td>\n",
       "      <td>05/11/2022</td>\n",
       "      <td>16047.24</td>\n",
       "      <td>334</td>\n",
       "      <td>15178.57</td>\n",
       "    </tr>\n",
       "    <tr>\n",
       "      <th>1</th>\n",
       "      <td>2</td>\n",
       "      <td>05/12/2022</td>\n",
       "      <td>16047.24</td>\n",
       "      <td>304</td>\n",
       "      <td>13366.18</td>\n",
       "    </tr>\n",
       "    <tr>\n",
       "      <th>2</th>\n",
       "      <td>3</td>\n",
       "      <td>05/01/2023</td>\n",
       "      <td>16047.24</td>\n",
       "      <td>273</td>\n",
       "      <td>11603.81</td>\n",
       "    </tr>\n",
       "    <tr>\n",
       "      <th>3</th>\n",
       "      <td>4</td>\n",
       "      <td>05/02/2023</td>\n",
       "      <td>16047.24</td>\n",
       "      <td>242</td>\n",
       "      <td>9947.04</td>\n",
       "    </tr>\n",
       "    <tr>\n",
       "      <th>4</th>\n",
       "      <td>5</td>\n",
       "      <td>05/03/2023</td>\n",
       "      <td>16047.24</td>\n",
       "      <td>214</td>\n",
       "      <td>8536.09</td>\n",
       "    </tr>\n",
       "    <tr>\n",
       "      <th>5</th>\n",
       "      <td>6</td>\n",
       "      <td>05/04/2023</td>\n",
       "      <td>16047.24</td>\n",
       "      <td>183</td>\n",
       "      <td>7063.12</td>\n",
       "    </tr>\n",
       "    <tr>\n",
       "      <th>6</th>\n",
       "      <td>7</td>\n",
       "      <td>05/05/2023</td>\n",
       "      <td>16047.24</td>\n",
       "      <td>153</td>\n",
       "      <td>5721.76</td>\n",
       "    </tr>\n",
       "    <tr>\n",
       "      <th>7</th>\n",
       "      <td>8</td>\n",
       "      <td>05/06/2023</td>\n",
       "      <td>16047.24</td>\n",
       "      <td>122</td>\n",
       "      <td>4417.42</td>\n",
       "    </tr>\n",
       "    <tr>\n",
       "      <th>8</th>\n",
       "      <td>9</td>\n",
       "      <td>05/07/2023</td>\n",
       "      <td>16047.24</td>\n",
       "      <td>92</td>\n",
       "      <td>3229.62</td>\n",
       "    </tr>\n",
       "    <tr>\n",
       "      <th>9</th>\n",
       "      <td>10</td>\n",
       "      <td>05/08/2023</td>\n",
       "      <td>16047.24</td>\n",
       "      <td>61</td>\n",
       "      <td>2074.61</td>\n",
       "    </tr>\n",
       "    <tr>\n",
       "      <th>10</th>\n",
       "      <td>11</td>\n",
       "      <td>05/09/2023</td>\n",
       "      <td>16047.24</td>\n",
       "      <td>30</td>\n",
       "      <td>988.80</td>\n",
       "    </tr>\n",
       "    <tr>\n",
       "      <th>11</th>\n",
       "      <td>12</td>\n",
       "      <td>05/10/2023</td>\n",
       "      <td>16047.24</td>\n",
       "      <td>0</td>\n",
       "      <td>0.00</td>\n",
       "    </tr>\n",
       "  </tbody>\n",
       "</table>\n",
       "</div>"
      ],
      "text/plain": [
       "    id       Fecha     Cuota  Días PF  Rendimiento\n",
       "0    1  05/11/2022  16047.24      334     15178.57\n",
       "1    2  05/12/2022  16047.24      304     13366.18\n",
       "2    3  05/01/2023  16047.24      273     11603.81\n",
       "3    4  05/02/2023  16047.24      242      9947.04\n",
       "4    5  05/03/2023  16047.24      214      8536.09\n",
       "5    6  05/04/2023  16047.24      183      7063.12\n",
       "6    7  05/05/2023  16047.24      153      5721.76\n",
       "7    8  05/06/2023  16047.24      122      4417.42\n",
       "8    9  05/07/2023  16047.24       92      3229.62\n",
       "9   10  05/08/2023  16047.24       61      2074.61\n",
       "10  11  05/09/2023  16047.24       30       988.80\n",
       "11  12  05/10/2023  16047.24        0         0.00"
      ]
     },
     "execution_count": 92,
     "metadata": {},
     "output_type": "execute_result"
    }
   ],
   "source": [
    "proxima_cuota = datetime.datetime.strptime(fecha_compra, \"%d/%m/%Y\").date() + relativedelta(months=1)\n",
    "proxima_cuota = proxima_cuota.replace(day=dia_vence_cuota) #cuota inicial\n",
    "ultima_cuota = proxima_cuota + relativedelta(months=periodos - 1)\n",
    "data = []\n",
    "for i in range(1, periodos+1):\n",
    "    pagos_acumulado = cuota * i\n",
    "    delta_dias = (ultima_cuota - proxima_cuota).days\n",
    "    rendimiento = 0\n",
    "    #los plazo fijo no pueden ser por menos de 30 dias\n",
    "    if delta_dias >= 30: \n",
    "        rendimiento = calcular_rendimiento_simplificado(cuota, taza_anual_pf, d=delta_dias) - cuota\n",
    "    data.append((\n",
    "        i,\n",
    "        proxima_cuota.strftime(\"%d/%m/%Y\"),\n",
    "        cuota,\n",
    "        #pagos_acumulado,\n",
    "        delta_dias,\n",
    "        round(rendimiento, 2)\n",
    "    ))\n",
    "    proxima_cuota += relativedelta(months=1) \n",
    "df = pd.DataFrame(data, columns=[\"id\", \"Fecha\", \"Cuota\", \"Días PF\", \"Rendimiento\"])\n",
    "df"
   ]
  },
  {
   "cell_type": "code",
   "execution_count": 93,
   "id": "a2ea0f5e",
   "metadata": {},
   "outputs": [
    {
     "name": "stdout",
     "output_type": "stream",
     "text": [
      "VALOR CONTADO: $ 138713.45\n",
      "\n",
      "VALOR TARJETA: $ 192566.88 a 12 CUOTAS\n",
      "CANTIDAD CUOTA: 12\n",
      "VALOR CUOTA: $ 16047.24\n",
      "\n",
      "TAZA ANUAL PF: 75.0%\n",
      "VALOR RULO PF: $ 110439.86\n",
      "AHORRO: $28273.59\n"
     ]
    }
   ],
   "source": [
    "rendimiento_pf = df[\"Rendimiento\"].sum()\n",
    "valor_pf = round(valor_total_tarjeta - rendimiento_pf, 2)\n",
    "ahorro = round(valor_contado - valor_pf, 2)\n",
    "\n",
    "print(f\"VALOR CONTADO: $ {valor_contado}\")\n",
    "print()\n",
    "print(f\"VALOR TARJETA: $ {valor_total_tarjeta} a {periodos} CUOTAS\")\n",
    "print(f\"CANTIDAD CUOTA: {periodos}\")\n",
    "print(f\"VALOR CUOTA: $ {cuota}\")\n",
    "print()\n",
    "print(f\"TAZA ANUAL PF: {taza_anual_pf * 100}%\")\n",
    "print(f\"VALOR RULO PF: $ {valor_pf}\")\n",
    "print(f\"AHORRO: ${ahorro}\")"
   ]
  },
  {
   "cell_type": "markdown",
   "id": "ce0931af",
   "metadata": {},
   "source": [
    "## Como proceder\n",
    "\n",
    "Para aprobechar la diferencia se tendrian que crear n-1 plazo fijos iguales por el valor de la cuota a diferentes días (vea la tabla de mas abajo)\n",
    "\n",
    "> n: cantidad de cuotas "
   ]
  },
  {
   "cell_type": "code",
   "execution_count": 94,
   "id": "a9b44bb1",
   "metadata": {},
   "outputs": [
    {
     "data": {
      "text/html": [
       "<div>\n",
       "<style scoped>\n",
       "    .dataframe tbody tr th:only-of-type {\n",
       "        vertical-align: middle;\n",
       "    }\n",
       "\n",
       "    .dataframe tbody tr th {\n",
       "        vertical-align: top;\n",
       "    }\n",
       "\n",
       "    .dataframe thead th {\n",
       "        text-align: right;\n",
       "    }\n",
       "</style>\n",
       "<table border=\"1\" class=\"dataframe\">\n",
       "  <thead>\n",
       "    <tr style=\"text-align: right;\">\n",
       "      <th></th>\n",
       "      <th>Cuota</th>\n",
       "      <th>Días PF</th>\n",
       "      <th>Rendimiento</th>\n",
       "    </tr>\n",
       "  </thead>\n",
       "  <tbody>\n",
       "    <tr>\n",
       "      <th>0</th>\n",
       "      <td>16047.24</td>\n",
       "      <td>334</td>\n",
       "      <td>15178.57</td>\n",
       "    </tr>\n",
       "    <tr>\n",
       "      <th>1</th>\n",
       "      <td>16047.24</td>\n",
       "      <td>304</td>\n",
       "      <td>13366.18</td>\n",
       "    </tr>\n",
       "    <tr>\n",
       "      <th>2</th>\n",
       "      <td>16047.24</td>\n",
       "      <td>273</td>\n",
       "      <td>11603.81</td>\n",
       "    </tr>\n",
       "    <tr>\n",
       "      <th>3</th>\n",
       "      <td>16047.24</td>\n",
       "      <td>242</td>\n",
       "      <td>9947.04</td>\n",
       "    </tr>\n",
       "    <tr>\n",
       "      <th>4</th>\n",
       "      <td>16047.24</td>\n",
       "      <td>214</td>\n",
       "      <td>8536.09</td>\n",
       "    </tr>\n",
       "    <tr>\n",
       "      <th>5</th>\n",
       "      <td>16047.24</td>\n",
       "      <td>183</td>\n",
       "      <td>7063.12</td>\n",
       "    </tr>\n",
       "    <tr>\n",
       "      <th>6</th>\n",
       "      <td>16047.24</td>\n",
       "      <td>153</td>\n",
       "      <td>5721.76</td>\n",
       "    </tr>\n",
       "    <tr>\n",
       "      <th>7</th>\n",
       "      <td>16047.24</td>\n",
       "      <td>122</td>\n",
       "      <td>4417.42</td>\n",
       "    </tr>\n",
       "    <tr>\n",
       "      <th>8</th>\n",
       "      <td>16047.24</td>\n",
       "      <td>92</td>\n",
       "      <td>3229.62</td>\n",
       "    </tr>\n",
       "    <tr>\n",
       "      <th>9</th>\n",
       "      <td>16047.24</td>\n",
       "      <td>61</td>\n",
       "      <td>2074.61</td>\n",
       "    </tr>\n",
       "    <tr>\n",
       "      <th>10</th>\n",
       "      <td>16047.24</td>\n",
       "      <td>30</td>\n",
       "      <td>988.80</td>\n",
       "    </tr>\n",
       "    <tr>\n",
       "      <th>11</th>\n",
       "      <td>16047.24</td>\n",
       "      <td>0</td>\n",
       "      <td>0.00</td>\n",
       "    </tr>\n",
       "  </tbody>\n",
       "</table>\n",
       "</div>"
      ],
      "text/plain": [
       "       Cuota  Días PF  Rendimiento\n",
       "0   16047.24      334     15178.57\n",
       "1   16047.24      304     13366.18\n",
       "2   16047.24      273     11603.81\n",
       "3   16047.24      242      9947.04\n",
       "4   16047.24      214      8536.09\n",
       "5   16047.24      183      7063.12\n",
       "6   16047.24      153      5721.76\n",
       "7   16047.24      122      4417.42\n",
       "8   16047.24       92      3229.62\n",
       "9   16047.24       61      2074.61\n",
       "10  16047.24       30       988.80\n",
       "11  16047.24        0         0.00"
      ]
     },
     "execution_count": 94,
     "metadata": {},
     "output_type": "execute_result"
    }
   ],
   "source": [
    "df[[\"Cuota\", \"Días PF\", \"Rendimiento\"]]"
   ]
  },
  {
   "cell_type": "code",
   "execution_count": null,
   "id": "f74edb4e",
   "metadata": {},
   "outputs": [],
   "source": []
  }
 ],
 "metadata": {
  "kernelspec": {
   "display_name": "Python 3 (ipykernel)",
   "language": "python",
   "name": "python3"
  },
  "language_info": {
   "codemirror_mode": {
    "name": "ipython",
    "version": 3
   },
   "file_extension": ".py",
   "mimetype": "text/x-python",
   "name": "python",
   "nbconvert_exporter": "python",
   "pygments_lexer": "ipython3",
   "version": "3.9.8"
  }
 },
 "nbformat": 4,
 "nbformat_minor": 5
}
